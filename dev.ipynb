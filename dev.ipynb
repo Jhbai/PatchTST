{
 "cells": [
  {
   "cell_type": "code",
   "execution_count": 1,
   "id": "16945777",
   "metadata": {},
   "outputs": [],
   "source": [
    "from model import PatchTST"
   ]
  },
  {
   "cell_type": "markdown",
   "id": "5188f761",
   "metadata": {},
   "source": [
    "# Training"
   ]
  },
  {
   "cell_type": "code",
   "execution_count": 4,
   "id": "8ae7331d",
   "metadata": {},
   "outputs": [
    {
     "name": "stderr",
     "output_type": "stream",
     "text": [
      "e:\\dev_space\\dev\\Lib\\site-packages\\torch\\nn\\modules\\instancenorm.py:115: UserWarning: input's size at dim=1 does not match num_features. You can silence this warning by not passing in num_features, which is not used because affine=False\n",
      "  warnings.warn(\n"
     ]
    },
    {
     "name": "stdout",
     "output_type": "stream",
     "text": [
      "Epoch [1/1], Loss: 1.106863\r"
     ]
    }
   ],
   "source": [
    "import torch\n",
    "import torch.nn as nn\n",
    "import torch.optim as optim\n",
    "from torch.utils.data import DataLoader, TensorDataset\n",
    "\n",
    "# Hyperparameters\n",
    "N_BATCH = 32\n",
    "N_CHANNELS = 7\n",
    "SEQ_LEN = 512\n",
    "PATCH_LEN = 12\n",
    "D_MODEL = 128\n",
    "N_HEADS = 16\n",
    "N_LAYERS = 3\n",
    "D_FF = 256\n",
    "DROPOUT = 0.2\n",
    "MASKING_RATIO = 0.4\n",
    "LEARNING_RATE = 1e-4\n",
    "EPOCHS = 1 # 100 ~ 300\n",
    "\n",
    "# Model Initialization\n",
    "model = PatchTST(\n",
    "    n_channels=N_CHANNELS,\n",
    "    seq_len=SEQ_LEN,\n",
    "    patch_len=PATCH_LEN,\n",
    "    d_model=D_MODEL,\n",
    "    n_heads=N_HEADS,\n",
    "    n_layers=N_LAYERS,\n",
    "    d_ff=D_FF,\n",
    "    dropout=DROPOUT,\n",
    "    masking_ratio=MASKING_RATIO\n",
    ")\n",
    "\n",
    "# Dataset and DataLoader\n",
    "# input shape: (n_samples, n_channels, seq_length)\n",
    "dummy_data = torch.randn(1000, N_CHANNELS, SEQ_LEN)\n",
    "dataset = TensorDataset(dummy_data)\n",
    "dataloader = DataLoader(dataset, batch_size=N_BATCH, shuffle=True)\n",
    "\n",
    "optimizer = optim.Adam(model.parameters(), lr=LEARNING_RATE)\n",
    "criterion = nn.MSELoss()\n",
    "\n",
    "model.train()\n",
    "for epoch in range(EPOCHS):\n",
    "    total_loss = 0\n",
    "    for i, (batch_x,) in enumerate(dataloader):\n",
    "        # batch_x: (B, M, L)\n",
    "        B, M, L = batch_x.shape\n",
    "\n",
    "        # pred_patches: (B * M, N, P)\n",
    "        # bool_mask: (B * M, N)\n",
    "        pred_patches, bool_mask = model(batch_x)\n",
    "        truncated_len = model.n_patches * model.patch_len\n",
    "        \n",
    "\n",
    "        gt_x = batch_x[:, :, :truncated_len] # gt_x: (B, M, L_trunc)\n",
    "        gt_x = gt_x.reshape(B * M, 1, truncated_len) # gt_x: (B * M, 1, L_trunc)\n",
    "        gt_x_norm = model.instance_norm(gt_x) # gt_x_norm: (B * M, 1, L_trunc)\n",
    "        gt_x_norm = gt_x_norm.squeeze(1) # gt_x_norm: (B * M, L_trunc)\n",
    "        gt_patches = gt_x_norm.unfold(dimension=-1, size=PATCH_LEN, step=PATCH_LEN) # gt_patches: (B * M, N, P)\n",
    "        \n",
    "        # loss backward\n",
    "        loss = criterion(pred_patches[bool_mask], gt_patches[bool_mask])\n",
    "        optimizer.zero_grad()\n",
    "        loss.backward()\n",
    "        optimizer.step()\n",
    "        \n",
    "        total_loss += loss.item()\n",
    "    \n",
    "    avg_loss = total_loss / len(dataloader)\n",
    "    print(f\"Epoch [{epoch+1}/{EPOCHS}], Loss: {avg_loss:.6f}\", end='\\r')\n",
    "\n",
    "torch.save(model.state_dict(), 'patchtst_pretrained_representation.pth')"
   ]
  },
  {
   "cell_type": "markdown",
   "id": "fda8407a",
   "metadata": {},
   "source": [
    "# Inference"
   ]
  },
  {
   "cell_type": "code",
   "execution_count": 5,
   "id": "18beff18",
   "metadata": {},
   "outputs": [],
   "source": [
    "model.eval()\n",
    "with torch.no_grad():\n",
    "    # sample_data: (B, M, L)\n",
    "    sample_data = next(iter(dataloader))[0]\n",
    "    \n",
    "    # For representation, only output of encoder is wanted\n",
    "    B, M, L = sample_data.shape\n",
    "    x = sample_data[:, :, :model.truncated_len]\n",
    "    x = x.reshape(B * M, 1, model.truncated_len)\n",
    "    x_norm = model.instance_norm(x)\n",
    "    x_norm = x_norm.squeeze(1)\n",
    "    patches = x_norm.unfold(dimension=-1, size=model.patch_len, step=model.stride)\n",
    "    patches_proj = model.projection(patches)\n",
    "    x_encoded = model.dropout(patches_proj + model.pos_embedding)\n",
    "    \n",
    "    # representation 'z' is the output of Transformer Encoder\n",
    "    # representation: (B * M, N, D)\n",
    "    representation = model.transformer_encoder(x_encoded)  \n",
    "\n",
    "    # After flatten this representation, it can be used for various tasks\n",
    "    # pooled_representation: (B * M, D)\n",
    "    pooled_representation = torch.mean(representation, dim=1) # Global Average Pooling\n",
    "    \n",
    "    \n",
    "    # reshape to the original channel dimension\n",
    "    # pooled_representation: (B, M, D)\n",
    "    pooled_representation = pooled_representation.view(B, M, D_MODEL)"
   ]
  },
  {
   "cell_type": "code",
   "execution_count": null,
   "id": "b2e83509",
   "metadata": {},
   "outputs": [],
   "source": []
  }
 ],
 "metadata": {
  "kernelspec": {
   "display_name": "dev",
   "language": "python",
   "name": "python3"
  },
  "language_info": {
   "codemirror_mode": {
    "name": "ipython",
    "version": 3
   },
   "file_extension": ".py",
   "mimetype": "text/x-python",
   "name": "python",
   "nbconvert_exporter": "python",
   "pygments_lexer": "ipython3",
   "version": "3.11.5"
  }
 },
 "nbformat": 4,
 "nbformat_minor": 5
}
